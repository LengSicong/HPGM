{
 "cells": [
  {
   "cell_type": "code",
   "execution_count": 1,
   "metadata": {},
   "outputs": [],
   "source": [
    "import os\n",
    "import cv2\n",
    "from tqdm import tqdm\n",
    "from scipy.spatial import distance\n",
    "import numpy as np\n",
    "import matplotlib.pyplot as plt\n",
    "import warnings\n",
    "from sklearn.metrics import jaccard_score\n",
    "from collections import defaultdict"
   ]
  },
  {
   "cell_type": "code",
   "execution_count": 2,
   "metadata": {},
   "outputs": [],
   "source": [
    "from calculate_iou import cluster_pixel_values, generate_mask, generate_one_dim_mask, find_central_point, calculate_iou"
   ]
  },
  {
   "cell_type": "code",
   "execution_count": 8,
   "metadata": {},
   "outputs": [
    {
     "name": "stdout",
     "output_type": "stream",
     "text": [
      "(260, 260, 3)\n"
     ]
    },
    {
     "data": {
      "text/plain": [
       "array([ 84, 139,  84], dtype=uint8)"
      ]
     },
     "execution_count": 8,
     "metadata": {},
     "output_type": "execute_result"
    }
   ],
   "source": [
    "pred_img = cv2.imread('../output_bbox_gcn/g2p_layout_haroon_split_3stages_2023_02_22_17_30_32/Image_eval/count_000000001_real_floor_plan.png')\n",
    "print(pred_img.shape)\n",
    "pred_img[0,0]"
   ]
  },
  {
   "cell_type": "code",
   "execution_count": 9,
   "metadata": {},
   "outputs": [],
   "source": [
    "pixels = []\n",
    "for i in range(12110):\n",
    "    img_id = i + 1\n",
    "    img_id = format(img_id, '09d')\n",
    "    gt_img_path = 'count_' + img_id + '_real_floor_plan.png'\n",
    "    pred_img_path = 'count_' + img_id + '_fake_floor_plan.png'\n",
    "    gt_img = cv2.imread('../output_bbox_gcn/g2p_layout_haroon_split_3stages_2023_02_22_17_30_32/Image_eval/' + gt_img_path)\n",
    "    pred_img = cv2.imread('../output_bbox_gcn/g2p_layout_haroon_split_3stages_2023_02_22_17_30_32/Image_eval/' + pred_img_path)\n",
    "    for j in range(260):\n",
    "        for k in range(260):\n",
    "            pixels.append(pred_img[j,k])"
   ]
  },
  {
   "cell_type": "code",
   "execution_count": 10,
   "metadata": {},
   "outputs": [
    {
     "data": {
      "text/plain": [
       "818636000"
      ]
     },
     "execution_count": 10,
     "metadata": {},
     "output_type": "execute_result"
    }
   ],
   "source": [
    "len(pixels)"
   ]
  },
  {
   "cell_type": "code",
   "execution_count": 13,
   "metadata": {},
   "outputs": [
    {
     "data": {
      "text/plain": [
       "'[84, 139, 84]'"
      ]
     },
     "execution_count": 13,
     "metadata": {},
     "output_type": "execute_result"
    }
   ],
   "source": [
    "str(list(pixels[0]))"
   ]
  },
  {
   "cell_type": "code",
   "execution_count": 14,
   "metadata": {},
   "outputs": [],
   "source": [
    "pixel_dict = dict.fromkeys([str(list(pix)) for pix in pixels], 0)"
   ]
  },
  {
   "cell_type": "code",
   "execution_count": 15,
   "metadata": {},
   "outputs": [
    {
     "data": {
      "text/plain": [
       "dict_keys(['[84, 139, 84]', '[255, 255, 255]', '[0, 0, 0]', '[255, 0, 255]', '[115, 198, 205]', '[139, 26, 85]', '[130, 134, 139]', '[128, 0, 0]', '[255, 144, 30]', '[58, 58, 139]', '[235, 206, 135]', '[42, 42, 165]', '[0, 100, 0]'])"
      ]
     },
     "execution_count": 15,
     "metadata": {},
     "output_type": "execute_result"
    }
   ],
   "source": [
    "pixel_dict.keys()"
   ]
  },
  {
   "cell_type": "code",
   "execution_count": 3,
   "metadata": {},
   "outputs": [],
   "source": [
    "# define rooms types and their corresponding colors\n",
    "last_5k_type = ['84, 139, 84','255, 255, 255', '0, 0, 0', '255, 0, 255', '115, 198, 205', '139, 26, 85', '130, 134, 139', '128, 0, 0', '255, 144, 30', '58, 58, 139', '235, 206, 135', '42, 42, 165', '0, 100, 0']\n",
    "# last_5k_type = ['255,255,255', '0,0,0', '0,0,255', '170,232,238', '128,128,240', '230,216,173', '0,215,255', '0,165,255', '35,142,107', '221,160,221', '0,255,255', '214,112,218']\n",
    "last_dict = dict.fromkeys(last_5k_type)\n",
    "for key in last_dict.keys():\n",
    "    last_dict[key] = [int(val) for val in key.split(',')]"
   ]
  },
  {
   "cell_type": "code",
   "execution_count": 5,
   "metadata": {},
   "outputs": [
    {
     "name": "stderr",
     "output_type": "stream",
     "text": [
      "  1%|▏         | 156/12110 [07:23<9:32:49,  2.88s/it]"
     ]
    }
   ],
   "source": [
    "# calculate IoU\n",
    "from tqdm import tqdm\n",
    "Macro_IoUs = []\n",
    "Micro_IoUs = []\n",
    "for i in tqdm(range(12110)):\n",
    "    img_id = i + 1\n",
    "    img_id = format(img_id, '09d')\n",
    "    gt_img_path = 'count_' + img_id + '_real_floor_plan.png'\n",
    "    pred_img_path = 'count_' + img_id + '_fake_floor_plan.png'\n",
    "    gt_image = cv2.imread('../output_bbox_gcn/g2p_layout_haroon_split_3stages_2023_02_22_17_30_32/Image_eval/' + gt_img_path)\n",
    "    pred_image = cv2.imread('../output_bbox_gcn/g2p_layout_haroon_split_3stages_2023_02_22_17_30_32/Image_eval/' + pred_img_path)\n",
    "\n",
    "    # new_image = cluster_pixel_values(pred_image, last_dict)\n",
    "\n",
    "    dict_pred_mask = generate_mask(pred_image, last_dict)\n",
    "    dict_gt_mask = generate_mask(gt_image, last_dict)\n",
    "\n",
    "    one_dim_pred_mask = generate_one_dim_mask(dict_pred_mask)\n",
    "    one_dim_gt_mask = generate_one_dim_mask(dict_gt_mask)\n",
    "\n",
    "    rooms = ['84, 139, 84','255, 255, 255', '0, 0, 0', '255, 0, 255', '115, 198, 205', '139, 26, 85', '130, 134, 139', '128, 0, 0', '255, 144, 30', '58, 58, 139', '235, 206, 135', '42, 42, 165', '0, 100, 0']\n",
    "    rooms_wo_outside = ['84, 139, 84', '0, 0, 0', '255, 0, 255', '115, 198, 205', '139, 26, 85', '130, 134, 139', '128, 0, 0', '255, 144, 30', '58, 58, 139', '235, 206, 135', '42, 42, 165', '0, 100, 0']\n",
    "    # rooms = ['170,232,238', '128,128,240', '230,216,173', '0,215,255', '0,165,255', '35,142,107', '221,160,221', '0,255,255', '214,112,218']\n",
    "    # IoUs, max_key = find_central_point(one_dim_gt_mask, one_dim_pred_mask)\n",
    "    max_key = (0,0) # no shifting\n",
    "    macro_iou, micro_iou = calculate_iou(rooms, dict_gt_mask, dict_pred_mask, max_key)\n",
    "    \n",
    "    Macro_IoUs.append(macro_iou)\n",
    "    Micro_IoUs.append(micro_iou)"
   ]
  },
  {
   "cell_type": "code",
   "execution_count": 12,
   "metadata": {},
   "outputs": [
    {
     "name": "stdout",
     "output_type": "stream",
     "text": [
      "Macro IoU: 0.22276059528678854\n",
      "Micro IoU: 0.19607894892981034\n"
     ]
    }
   ],
   "source": [
    "print(f\"Macro IoU: {np.mean(Macro_IoUs)}\")\n",
    "print(f\"Micro IoU: {np.mean(Micro_IoUs)}\")"
   ]
  },
  {
   "cell_type": "code",
   "execution_count": null,
   "metadata": {},
   "outputs": [],
   "source": []
  }
 ],
 "metadata": {
  "kernelspec": {
   "display_name": "apex",
   "language": "python",
   "name": "python3"
  },
  "language_info": {
   "codemirror_mode": {
    "name": "ipython",
    "version": 3
   },
   "file_extension": ".py",
   "mimetype": "text/x-python",
   "name": "python",
   "nbconvert_exporter": "python",
   "pygments_lexer": "ipython3",
   "version": "3.7.15"
  },
  "orig_nbformat": 4,
  "vscode": {
   "interpreter": {
    "hash": "d6781b4406bf3e0776b57b4bd7f389d531766a5a8e8ad506f35f7cbc1e475358"
   }
  }
 },
 "nbformat": 4,
 "nbformat_minor": 2
}
