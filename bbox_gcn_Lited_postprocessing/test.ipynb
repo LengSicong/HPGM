{
 "cells": [
  {
   "cell_type": "code",
   "execution_count": 1,
   "metadata": {},
   "outputs": [
    {
     "name": "stderr",
     "output_type": "stream",
     "text": [
      "/home/sicong/.conda/envs/apex/lib/python3.7/site-packages/tqdm/auto.py:22: TqdmWarning: IProgress not found. Please update jupyter and ipywidgets. See https://ipywidgets.readthedocs.io/en/stable/user_install.html\n",
      "  from .autonotebook import tqdm as notebook_tqdm\n"
     ]
    }
   ],
   "source": [
    "import torch\n",
    "# def bbox_iou(box1, box2, x1y1x2y2=True):\n",
    "def bbox_iou(boxes1, boxes2):\n",
    "    \"\"\"\n",
    "    Returns the IoU of two bounding boxes\n",
    "    \"\"\"\n",
    "    # if not x1y1x2y2:\n",
    "    #     # Transform from center and width to exact coordinates\n",
    "    #     b1_x1, b1_x2 = box1[:, 0] - box1[:, 2] / 2, box1[:, 0] + box1[:, 2] / 2\n",
    "    #     b1_y1, b1_y2 = box1[:, 1] - box1[:, 3] / 2, box1[:, 1] + box1[:, 3] / 2\n",
    "    #     b2_x1, b2_x2 = box2[:, 0] - box2[:, 2] / 2, box2[:, 0] + box2[:, 2] / 2\n",
    "    #     b2_y1, b2_y2 = box2[:, 1] - box2[:, 3] / 2, box2[:, 1] + box2[:, 3] / 2\n",
    "    # else:\n",
    "    #     # Get the coordinates of bounding boxes\n",
    "    #     b1_x1, b1_y1, b1_x2, b1_y2 = box1[:,0], box1[:,1], box1[:,2], box1[:,3]\n",
    "    #     b2_x1, b2_y1, b2_x2, b2_y2 = box2[:,0], box2[:,1], box2[:,2], box2[:,3]\n",
    "\n",
    "    num_boxes = boxes1.size(0)\n",
    "    iou = 0.0\n",
    "    for i in range(num_boxes):\n",
    "        box1 = boxes1[i]\n",
    "        box2 = boxes2[i]\n",
    "\n",
    "        # Get the coordinates of bounding boxes\n",
    "        # ([left, bottom, right, top] -> [top, left, bottom, right])\n",
    "        b1_x1, b1_y1, b1_x2, b1_y2 = box1[3], box1[0], box1[1], box1[2]\n",
    "        b2_x1, b2_y1, b2_x2, b2_y2 = box2[3], box2[0], box2[1], box2[2]\n",
    "\n",
    "        # get the corrdinates of the intersection rectangle\n",
    "        inter_rect_x1 = torch.max(b1_x1, b2_x1)\n",
    "        inter_rect_y1 = torch.max(b1_y1, b2_y1)\n",
    "        inter_rect_x2 = torch.min(b1_x2, b2_x2)\n",
    "        inter_rect_y2 = torch.min(b1_y2, b2_y2)\n",
    "        # Intersection area\n",
    "        inter_area = torch.clamp(inter_rect_x2 - inter_rect_x1 + 1, min=0) * \\\n",
    "                        torch.clamp(inter_rect_y2 - inter_rect_y1 + 1, min=0)\n",
    "        # Union Area\n",
    "        b1_area = (b1_x2 - b1_x1 + 1) * (b1_y2 - b1_y1 + 1)\n",
    "        b2_area = (b2_x2 - b2_x1 + 1) * (b2_y2 - b2_y1 + 1)\n",
    "\n",
    "        iou += inter_area / (b1_area + b2_area - inter_area + 1e-16)\n",
    "\t\n",
    "    # # Sicong: for batch-wise IoU\n",
    "    # iou /= num_boxes\n",
    "    # num_boxes = 1\n",
    "\n",
    "    return iou, num_boxes"
   ]
  },
  {
   "cell_type": "code",
   "execution_count": null,
   "metadata": {},
   "outputs": [],
   "source": []
  }
 ],
 "metadata": {
  "kernelspec": {
   "display_name": "apex",
   "language": "python",
   "name": "python3"
  },
  "language_info": {
   "codemirror_mode": {
    "name": "ipython",
    "version": 3
   },
   "file_extension": ".py",
   "mimetype": "text/x-python",
   "name": "python",
   "nbconvert_exporter": "python",
   "pygments_lexer": "ipython3",
   "version": "3.7.15"
  },
  "orig_nbformat": 4,
  "vscode": {
   "interpreter": {
    "hash": "d6781b4406bf3e0776b57b4bd7f389d531766a5a8e8ad506f35f7cbc1e475358"
   }
  }
 },
 "nbformat": 4,
 "nbformat_minor": 2
}
